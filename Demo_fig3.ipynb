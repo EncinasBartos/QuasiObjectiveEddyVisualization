{
 "cells": [
  {
   "cell_type": "markdown",
   "id": "34400e27",
   "metadata": {},
   "source": [
    "This notebook generates Fig. 3."
   ]
  },
  {
   "cell_type": "markdown",
   "id": "31ad14e8",
   "metadata": {},
   "source": [
    "# Import GLAD drifter data"
   ]
  },
  {
   "cell_type": "code",
   "execution_count": null,
   "id": "cf5eb0d5",
   "metadata": {
    "ExecuteTime": {
     "end_time": "2022-08-02T12:41:07.149869Z",
     "start_time": "2022-08-02T12:41:04.600505Z"
    },
    "code_folding": [
     0
    ]
   },
   "outputs": [],
   "source": [
    "# import numpy\n",
    "import numpy as np\n",
    "\n",
    "# import datetime\n",
    "from datetime import datetime\n",
    "\n",
    "# get parent directory of working directory\n",
    "import os\n",
    "parentdirectory = os.path.dirname(os.getcwd())\n",
    "\n",
    "# Import pandas\n",
    "import pandas as pd\n",
    "\n",
    "# get data directory where preprocesed GDP drifter data is stored.\n",
    "# All the GDP drifters which were continuously active from the 10/08/2012 to the 17/08/2012  are stored in this directory.\n",
    "data_directory = parentdirectory+\"/data/GLAD/Drifter_processed\"\n",
    "\n",
    "drifters = []\n",
    "\n",
    "for r, d, f in os.walk(data_directory):\n",
    "    # r=root, d=directories, f = files\n",
    "    for file in f:\n",
    "        if file.endswith(\".csv\"):\n",
    "            csv_file = pd.read_csv(r+\"/\"+file).values\n",
    "            time_string = csv_file[:,0]\n",
    "            time_datetime = [datetime.strptime(s, '%Y-%m-%d %H:%M:%S') for s in time_string]\n",
    "            time_seconds = [0]\n",
    "            for i in range(len(time_datetime)-1):\n",
    "                time_seconds.append(int((time_datetime[i+1]-time_datetime[0]).total_seconds()))\n",
    "            longitude = csv_file[:,1]\n",
    "            latitude = csv_file[:,2]\n",
    "            drifters.append([time_seconds, longitude, latitude])"
   ]
  },
  {
   "cell_type": "markdown",
   "id": "2d579b5e",
   "metadata": {},
   "source": [
    "# Import Chlorophyl data"
   ]
  },
  {
   "cell_type": "code",
   "execution_count": null,
   "id": "143c71cf",
   "metadata": {
    "ExecuteTime": {
     "end_time": "2022-08-02T12:41:07.179790Z",
     "start_time": "2022-08-02T12:41:07.150867Z"
    },
    "code_folding": [
     0
    ]
   },
   "outputs": [],
   "source": [
    "# import netCDF\n",
    "from netCDF4 import Dataset, num2date\n",
    "\n",
    "def import_Chlorophyll(nc_file):\n",
    "\n",
    "    fileobj = Dataset(nc_file, 'r')\n",
    "    # only extract chlorophyll in the region of interest (=GOM)\n",
    "    long_chl = fileobj.variables['lon'][2150:2260]\n",
    "    lat_chl = fileobj.variables['lat'][1450:1570]\n",
    "    CHL = fileobj.variables['chlor_a'][1450:1570,2150:2260]\n",
    "    \n",
    "    CHL_original = CHL.copy()\n",
    "    \n",
    "    # for plotting purposes: mask the values of CHL which are greater than 0.5 with 0.5\n",
    "    CHL[CHL > 0.5] = 0.5\n",
    "    \n",
    "    return long_chl, lat_chl, CHL, CHL_original\n",
    "\n",
    "long_chl, lat_chl, CHL, CHL_original = import_Chlorophyll(parentdirectory + \"/data/GLAD/Chlorophyll/Composite_Chlorophyll.nc\")"
   ]
  },
  {
   "cell_type": "markdown",
   "id": "712ab2a9",
   "metadata": {},
   "source": [
    "# Import Attracting LCS"
   ]
  },
  {
   "cell_type": "markdown",
   "id": "2aae0fb2",
   "metadata": {},
   "source": [
    "The attracting LCS is computed from backwards trajectories over the time-interval $ [222 \\ \\mathrm{doy}, 229 \\ \\mathrm{doy}] $ from the geostrophic velocity field (=AVISO). The computation is done using the [TBarrier](https://github.com/EncinasBartos/TBarrier) notebook series."
   ]
  },
  {
   "cell_type": "code",
   "execution_count": null,
   "id": "460aafa8",
   "metadata": {
    "ExecuteTime": {
     "end_time": "2022-08-02T12:41:07.225073Z",
     "start_time": "2022-08-02T12:41:07.180786Z"
    },
    "code_folding": []
   },
   "outputs": [],
   "source": [
    "# import scipy\n",
    "from scipy.io import loadmat\n",
    "\n",
    "AttractingLCS = loadmat(\"./files/AttractingLCS.mat\")\n",
    "AttractingLCS_x = AttractingLCS[\"attractingLCS_x\"]\n",
    "AttractingLCS_y = AttractingLCS[\"attractingLCS_y\"]"
   ]
  },
  {
   "cell_type": "markdown",
   "id": "ce08777a",
   "metadata": {},
   "source": [
    "# Evolution of drifter array over the chlorophyll distribution"
   ]
  },
  {
   "cell_type": "code",
   "execution_count": null,
   "id": "901b7d6e",
   "metadata": {
    "ExecuteTime": {
     "end_time": "2022-08-02T12:41:42.074439Z",
     "start_time": "2022-08-02T12:41:07.226063Z"
    },
    "code_folding": [
     87,
     97
    ],
    "scrolled": false
   },
   "outputs": [],
   "source": [
    "# Import plotting package\n",
    "import matplotlib.gridspec as gridspec\n",
    "import matplotlib.pyplot as plt\n",
    "from mpl_toolkits.axes_grid1.inset_locator import zoomed_inset_axes, mark_inset\n",
    "\n",
    "# Import datetime\n",
    "from datetime import timedelta\n",
    "\n",
    "# import package for progress bar\n",
    "from tqdm.notebook import tqdm\n",
    "\n",
    "# import cartopy for coastal borders\n",
    "import cartopy.crs as ccrs\n",
    "import cartopy.feature as cfeature\n",
    "\n",
    "# suppress deprecation warning from cartopy library\n",
    "import warnings\n",
    "warnings.filterwarnings(\"ignore\", category=DeprecationWarning)\n",
    "\n",
    "fig1 = plt.figure(figsize = (12, 12), dpi = 1200)\n",
    "ax = []\n",
    "idx_list = np.arange(0, 96*7+1, 96)\n",
    "idx_list = [0, 2*96, 4*96, 7*96]\n",
    "\n",
    "idx_x = [0, 1, 0, 1]\n",
    "idx_y = [0, 0, 1, 1]\n",
    "\n",
    "letters = [\"a\", \"b\", \"c\", \"d\"]\n",
    "\n",
    "# Set initial and final date\n",
    "date_initial = datetime(2012, 8, 10, 0, 0, 0)\n",
    "date_final = datetime(2012, 8, 17, 0, 0, 0)\n",
    "\n",
    "# Set counter\n",
    "counter = 0\n",
    "\n",
    "# Define limits\n",
    "long_limits = [-89.5, -86]\n",
    "lat_limits = [26, 29.5]\n",
    "\n",
    "long_min = long_limits[0]\n",
    "long_max = long_limits[-1]\n",
    "lat_min = lat_limits[0]\n",
    "lat_max = lat_limits[-1]\n",
    "\n",
    "# Mouth of Mississippi river\n",
    "long_Mississippi = -89.15\n",
    "lat_Mississippi = 29.1\n",
    "\n",
    "delta_long = long_limits[-1]-long_limits[0]\n",
    "delta_lat = lat_limits[-1]-lat_limits[0]\n",
    "\n",
    "# Iterate over time-series/subplots\n",
    "for idx in tqdm(idx_list):\n",
    "    \n",
    "    date = date_initial + timedelta(hours = int(idx/4))\n",
    "    \n",
    "    filesave = r'./figures/fig3.jpeg'\n",
    "    \n",
    "    long_cluster, lat_cluster = [], []\n",
    "    long_rest, lat_rest = [], []\n",
    "    long_current_cluster, lat_current_cluster = [], []\n",
    "    long_current_rest, lat_current_rest = [], []\n",
    "    \n",
    "    # time\n",
    "    time = drifters[0][:idx+1]\n",
    "    \n",
    "    longitude, latitude = [], []\n",
    "    \n",
    "    for d in drifters:\n",
    "        \n",
    "        #longitudinal position of drifter d\n",
    "        long = d[1][:idx+1]\n",
    "        long_final = d[1][-1]\n",
    "        \n",
    "        # latitudinal position of drifter d\n",
    "        lat = d[2][:idx+1]\n",
    "        lat_final = d[2][-1]\n",
    "        \n",
    "        long_init = d[1][0]\n",
    "        lat_init = d[2][0]\n",
    "        \n",
    "        # Append longitude/latitude\n",
    "        longitude.append(long)\n",
    "        latitude.append(lat)\n",
    "        \n",
    "        # manually mark clustered red drifters\n",
    "        if -89 < long_init < -88 and 27.25 < lat_init< 28:\n",
    "            \n",
    "            # store\n",
    "            long_cluster.append(long)\n",
    "            lat_cluster.append(lat)\n",
    "            \n",
    "            # store current position\n",
    "            long_current_cluster.append(long[idx])\n",
    "            lat_current_cluster.append(lat[idx])\n",
    "        \n",
    "        else:\n",
    "            \n",
    "            long_rest.append(long)\n",
    "            lat_rest.append(lat)\n",
    "            \n",
    "            # store current position\n",
    "            long_current_rest.append(long[idx])\n",
    "            lat_current_rest.append(lat[idx])\n",
    "        \n",
    "    # Date year\n",
    "    yearday = (date - datetime(2012, 1, 1, 0, 0, 0)).total_seconds() / (3600 * 24)\n",
    "\n",
    "    ax.append(plt.subplot(2, 2, counter+1, projection=ccrs.PlateCarree())) #PlateCarree\n",
    "    \n",
    "    # Set cartopy features    \n",
    "    ax[-1].natural_earth_shp(name='land', resolution='10m', category='physical', facecolor = \"grey\")\n",
    "    ax[-1].coastlines(resolution = \"10m\", edgecolor = \"k\")\n",
    "    \n",
    "    # Plot mouth of Mississippi-river\n",
    "    ax[-1].scatter(long_Mississippi, lat_Mississippi, marker = \"X\", s = 60, facecolors = \"b\", edgecolors = \"w\", zorder = 2)\n",
    "    \n",
    "    # Set title (=date)\n",
    "    ax[-1].set_title(\"t = \" + np.str(int(yearday)) + \" doy\", fontsize = 10)\n",
    "\n",
    "    # Set limits\n",
    "    ax[-1].set_xlim([long_min, long_max])\n",
    "    ax[-1].set_ylim([lat_min, lat_max])\n",
    "    \n",
    "    # Define position of the letters\n",
    "    long_letter = long_min + 0.9*(long_max-long_min)\n",
    "    lat_letter = lat_min + .9*(lat_max - lat_min)\n",
    "    \n",
    "    # Plot letters\n",
    "    ax[-1].text(.95, .95, letters[counter], c = \"k\", fontsize = 12, bbox = dict(facecolor='w', edgecolor='k'), transform = ax[-1].transAxes)\n",
    "    \n",
    "    # Plot chlorophyll\n",
    "    cax = ax[-1].contourf(long_chl, lat_chl, CHL, levels=300, cmap='summer_r', zorder=1)\n",
    "    \n",
    "    # Plot drifters\n",
    "    ax[-1].scatter(long_current_rest, lat_current_rest, s=30, marker=\"^\", facecolor = \"w\", edgecolor = \"k\", zorder=3)\n",
    "    ax[-1].scatter(long_current_cluster, lat_current_cluster, s=30, marker=\"^\", facecolor = \"r\", edgecolor = \"k\", zorder=3)\n",
    "    \n",
    "    # Plot drifter tails\n",
    "    for ti in range(len(longitude)):\n",
    "        ax[-1].plot(longitude[ti], latitude[ti], linewidth = 0.1, c = \"k\")\n",
    "    \n",
    "    # Set ticks\n",
    "    ax[-1].set_yticks(np.arange(lat_min, lat_max+.1, 1, dtype = int))\n",
    "    ax[-1].set_xticks(np.arange(long_min+.5, long_max+.1, 1, dtype = int))\n",
    "    \n",
    "    # Set labels, ticks, ticklabels\n",
    "    if idx_x[counter] == 0:\n",
    "        ax[-1].set_ylabel(\"Latitude (°)\", fontsize = 10)\n",
    "        ax[-1].set_yticklabels(np.arange(lat_min, lat_max+.1, 1, dtype = int), fontsize = 10)\n",
    "        \n",
    "    else:\n",
    "        \n",
    "        ax[-1].set_yticklabels([])\n",
    "        \n",
    "    if idx_y[counter] == 1:\n",
    "        ax[-1].set_xticklabels(np.arange(long_min+.5, long_max+.1, 1, dtype = int), fontsize = 10)\n",
    "        ax[-1].set_xlabel(\"Longitude (°)\", fontsize = 10)\n",
    "\n",
    "    else:\n",
    "        \n",
    "        ax[-1].set_xticklabels([])\n",
    "    \n",
    "    # Plot AVISO-based attracting LCS\n",
    "    ax[-1].plot(AttractingLCS_x[0,:50], AttractingLCS_y[0,:50], c = \"k\", linewidth = 3)\n",
    "        \n",
    "    plt.subplots_adjust(wspace=0.01, hspace=0.075)\n",
    "    \n",
    "    counter += 1\n",
    "\n",
    "# savefig\n",
    "plt.savefig(filesave, dpi=1200, bbox_inches='tight')#, bbox_inches='tight', tight_layout=True)\n",
    "plt.show(fig1)"
   ]
  },
  {
   "cell_type": "code",
   "execution_count": null,
   "id": "5b28adf9",
   "metadata": {},
   "outputs": [],
   "source": []
  }
 ],
 "metadata": {
  "kernelspec": {
   "display_name": "Python 3",
   "language": "python",
   "name": "python3"
  },
  "language_info": {
   "codemirror_mode": {
    "name": "ipython",
    "version": 3
   },
   "file_extension": ".py",
   "mimetype": "text/x-python",
   "name": "python",
   "nbconvert_exporter": "python",
   "pygments_lexer": "ipython3",
   "version": "3.7.12"
  },
  "latex_envs": {
   "LaTeX_envs_menu_present": true,
   "autoclose": false,
   "autocomplete": true,
   "bibliofile": "biblio.bib",
   "cite_by": "apalike",
   "current_citInitial": 1,
   "eqLabelWithNumbers": true,
   "eqNumInitial": 1,
   "hotkeys": {
    "equation": "Ctrl-E",
    "itemize": "Ctrl-I"
   },
   "labels_anchors": false,
   "latex_user_defs": false,
   "report_style_numbering": false,
   "user_envs_cfg": false
  },
  "toc": {
   "base_numbering": 1,
   "nav_menu": {},
   "number_sections": true,
   "sideBar": true,
   "skip_h1_title": false,
   "title_cell": "Table of Contents",
   "title_sidebar": "Contents",
   "toc_cell": false,
   "toc_position": {
    "height": "calc(100% - 180px)",
    "left": "10px",
    "top": "150px",
    "width": "341.333px"
   },
   "toc_section_display": true,
   "toc_window_display": true
  }
 },
 "nbformat": 4,
 "nbformat_minor": 5
}
