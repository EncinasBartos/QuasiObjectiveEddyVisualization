{
 "cells": [
  {
   "cell_type": "code",
   "execution_count": 1,
   "id": "de8922d4",
   "metadata": {
    "ExecuteTime": {
     "end_time": "2022-03-25T13:07:40.580808Z",
     "start_time": "2022-03-25T13:07:39.986432Z"
    },
    "code_folding": [
     22,
     29
    ],
    "run_control": {
     "marked": true
    }
   },
   "outputs": [],
   "source": [
    "# import numpy\n",
    "import numpy as np\n",
    "\n",
    "# import math tools\n",
    "from math import pi, sqrt\n",
    "\n",
    "# import great circle calculator\n",
    "import great_circle_calculator.great_circle_calculator as gcc\n",
    "\n",
    "# import median filter for time-series\n",
    "from scipy.signal import medfilt\n",
    "\n",
    "import matplotlib.pyplot as plt\n",
    "\n",
    "def __EKE__(longitude, latitude, time, f, long_min, long_max, lat_min, lat_max, use_great_circle_distance = True, u_avg=0, v_avg=0):\n",
    "    \n",
    "    # compute velocity from finite-differencing\n",
    "    \n",
    "    # define velocities\n",
    "    velx, vely, vel = [], [], []\n",
    "    \n",
    "    ## Compute velocities\n",
    "    if use_great_circle_distance == False:\n",
    "        \n",
    "        # coordinates are not in longitude/latitude --> no need to compute the distances on a sphere\n",
    "        \n",
    "        x = longitude\n",
    "        y = latitude\n",
    "        \n",
    "        for i in range(1, len(x)-1):\n",
    "                       \n",
    "            dist_x = (x[i+1]-x[i-1])*1000\n",
    "            dist_y = (y[i+1]-y[i-1])*1000\n",
    "        \n",
    "            u = dist_x/(time[i+1]-time[i-1])\n",
    "            v = dist_y/(time[i+1]-time[i-1])\n",
    "        \n",
    "            velx.append(u)\n",
    "            vely.append(v)\n",
    "            vel.append(sqrt(u**2+v**2))\n",
    "    \n",
    "    else:\n",
    "        \n",
    "        # coordinates are in longitude/latitude --> need to compute the distances on a sphere using great circle distance_calculator\n",
    "        \n",
    "        for i in range(1, len(longitude)-1):\n",
    "        \n",
    "            dist_x = np.abs(gcc.distance_between_points((longitude[i-1], latitude[i]), (longitude[i+1], latitude[i]), haversine=True))\n",
    "            dist_y = np.abs(gcc.distance_between_points((longitude[i], latitude[i-1]), (longitude[i], latitude[i+1]), haversine=True))\n",
    "        \n",
    "            u = dist_x/(time[i+1]-time[i-1])*np.sign(longitude[i+1] - longitude[i-1])-u_avg\n",
    "            v = dist_y/(time[i+1]-time[i-1])*np.sign(latitude[i+1] - latitude[i-1])-v_avg\n",
    "        \n",
    "            velx.append(u)\n",
    "            vely.append(v)\n",
    "            vel.append(sqrt(u**2+v**2))\n",
    "    \n",
    "    return 1/2*np.mean(np.array(vel)**2), 1/2*np.array(vel)**2"
   ]
  }
 ],
 "metadata": {
  "kernelspec": {
   "display_name": "Python 3",
   "language": "python",
   "name": "python3"
  },
  "language_info": {
   "codemirror_mode": {
    "name": "ipython",
    "version": 3
   },
   "file_extension": ".py",
   "mimetype": "text/x-python",
   "name": "python",
   "nbconvert_exporter": "python",
   "pygments_lexer": "ipython3",
   "version": "3.7.12"
  },
  "latex_envs": {
   "LaTeX_envs_menu_present": true,
   "autoclose": false,
   "autocomplete": true,
   "bibliofile": "biblio.bib",
   "cite_by": "apalike",
   "current_citInitial": 1,
   "eqLabelWithNumbers": true,
   "eqNumInitial": 1,
   "hotkeys": {
    "equation": "Ctrl-E",
    "itemize": "Ctrl-I"
   },
   "labels_anchors": false,
   "latex_user_defs": false,
   "report_style_numbering": false,
   "user_envs_cfg": false
  },
  "toc": {
   "base_numbering": 1,
   "nav_menu": {},
   "number_sections": true,
   "sideBar": true,
   "skip_h1_title": false,
   "title_cell": "Table of Contents",
   "title_sidebar": "Contents",
   "toc_cell": false,
   "toc_position": {},
   "toc_section_display": true,
   "toc_window_display": false
  }
 },
 "nbformat": 4,
 "nbformat_minor": 5
}
