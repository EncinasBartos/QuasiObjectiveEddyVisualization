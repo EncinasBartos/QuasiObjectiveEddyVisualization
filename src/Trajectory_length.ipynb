{
 "cells": [
  {
   "cell_type": "code",
   "execution_count": 1,
   "id": "d09361e0",
   "metadata": {
    "ExecuteTime": {
     "end_time": "2021-11-07T16:16:18.826974Z",
     "start_time": "2021-11-07T16:16:18.446261Z"
    },
    "code_folding": []
   },
   "outputs": [],
   "source": [
    "import numpy as np\n",
    "from numba import njit\n",
    "from math import pi, sqrt\n",
    "import great_circle_calculator.great_circle_calculator as gcc\n",
    "\n",
    "def __Trajectory_length__(longitude, latitude, time, f, use_great_circle_distance = True):\n",
    "    \n",
    "    # compute velocity from finite-differencing\n",
    "    \n",
    "    # define velocities\n",
    "    velx, vely, vel = [], [], []\n",
    "    \n",
    "    ## Compute velocities\n",
    "    if use_great_circle_distance == False:\n",
    "        \n",
    "        # coordinates are not in longitude/latitude --> no need to compute the distances on a sphere\n",
    "        \n",
    "        x = longitude\n",
    "        y = latitude\n",
    "        \n",
    "        for i in range(1, len(x)-1):\n",
    "                       \n",
    "            dist_x = (x[i+1]-x[i-1])*1000\n",
    "            dist_y = (y[i+1]-y[i-1])*1000\n",
    "        \n",
    "            u = dist_x/(time[i+1]-time[i-1])\n",
    "            v = dist_y/(time[i+1]-time[i-1])\n",
    "        \n",
    "            velx.append(u)\n",
    "            vely.append(v)\n",
    "            vel.append(sqrt(u**2+v**2))\n",
    "    \n",
    "    else:\n",
    "        \n",
    "        # coordinates are in longitude/latitude --> need to compute the distances on a sphere using great circle distance_calculator\n",
    "        Trajectory_length = 0\n",
    "        \n",
    "        for i in range(len(longitude)-1):\n",
    "        \n",
    "            #dist_x = np.abs(gcc.distance_between_points((longitude[i-1], latitude[i]), (longitude[i+1], latitude[i]), haversine=True))\n",
    "            #dist_y = np.abs(gcc.distance_between_points((longitude[i], latitude[i-1]), (longitude[i], latitude[i+1]), haversine=True))\n",
    "            \n",
    "            Trajectory_length += np.abs(gcc.distance_between_points((longitude[i], latitude[i]), (longitude[i+1], latitude[i+1]), haversine=True))\n",
    "        \n",
    "            #u = dist_x/(time[i+1]-time[i-1])*np.sign(longitude[i+1] - longitude[i-1])\n",
    "            #v = dist_y/(time[i+1]-time[i-1])*np.sign(latitude[i+1] - latitude[i-1])\n",
    "        \n",
    "            #velx.append(u)\n",
    "            #vely.append(v)\n",
    "            #vel.append(sqrt(u**2+v**2))\n",
    "    \n",
    "    # compute Trajectory length\n",
    "    #Trajectory_length = np.sum(vel)*(time[1]-time[0])/1000\n",
    "    \n",
    "    return Trajectory_length/1000"
   ]
  }
 ],
 "metadata": {
  "kernelspec": {
   "display_name": "Python 3",
   "language": "python",
   "name": "python3"
  },
  "language_info": {
   "codemirror_mode": {
    "name": "ipython",
    "version": 3
   },
   "file_extension": ".py",
   "mimetype": "text/x-python",
   "name": "python",
   "nbconvert_exporter": "python",
   "pygments_lexer": "ipython3",
   "version": "3.7.12"
  },
  "latex_envs": {
   "LaTeX_envs_menu_present": true,
   "autoclose": false,
   "autocomplete": true,
   "bibliofile": "biblio.bib",
   "cite_by": "apalike",
   "current_citInitial": 1,
   "eqLabelWithNumbers": true,
   "eqNumInitial": 1,
   "hotkeys": {
    "equation": "Ctrl-E",
    "itemize": "Ctrl-I"
   },
   "labels_anchors": false,
   "latex_user_defs": false,
   "report_style_numbering": false,
   "user_envs_cfg": false
  },
  "toc": {
   "base_numbering": 1,
   "nav_menu": {},
   "number_sections": true,
   "sideBar": true,
   "skip_h1_title": false,
   "title_cell": "Table of Contents",
   "title_sidebar": "Contents",
   "toc_cell": false,
   "toc_position": {},
   "toc_section_display": true,
   "toc_window_display": false
  }
 },
 "nbformat": 4,
 "nbformat_minor": 5
}
