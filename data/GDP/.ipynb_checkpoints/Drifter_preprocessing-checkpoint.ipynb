{
 "cells": [
  {
   "cell_type": "code",
   "execution_count": 1,
   "id": "85dbbb86",
   "metadata": {
    "ExecuteTime": {
     "end_time": "2022-01-07T14:26:09.195815Z",
     "start_time": "2022-01-07T14:26:08.918497Z"
    }
   },
   "outputs": [],
   "source": [
    "import numpy as np\n",
    "import os, re\n",
    "import pandas as pd\n",
    "\n",
    "def read_files_GDP(years, file = r'./Drifter_raw'):\n",
    "\n",
    "    lst = []\n",
    "    \n",
    "    for y in years:\n",
    "        path = file + \"/\" + str(y)\n",
    "        for filename in os.listdir(path):\n",
    "            if filename.endswith(\".csv\"):\n",
    "                file_drifter = path+\"/\"+filename\n",
    "                arr = pd.read_csv(file_drifter).values\n",
    "                lst.append(arr)\n",
    "                \n",
    "    return lst"
   ]
  },
  {
   "cell_type": "code",
   "execution_count": 2,
   "id": "7643b82d",
   "metadata": {
    "ExecuteTime": {
     "end_time": "2022-01-07T14:26:18.222041Z",
     "start_time": "2022-01-07T14:26:09.196811Z"
    }
   },
   "outputs": [],
   "source": [
    "years = [2003, 2004, 2005, 2006]\n",
    "data = read_files_GDP(years)"
   ]
  },
  {
   "cell_type": "code",
   "execution_count": 3,
   "id": "9141c559",
   "metadata": {
    "ExecuteTime": {
     "end_time": "2022-01-07T14:26:18.694191Z",
     "start_time": "2022-01-07T14:26:18.223055Z"
    }
   },
   "outputs": [],
   "source": [
    "from scipy import signal\n",
    "from math import sin\n",
    "import matplotlib.pyplot as plt\n",
    "\n",
    "def filter_data(lat, long):\n",
    "    \n",
    "    for c in range(len(long)-1):\n",
    "        \n",
    "        # sampling frequency of drifters: 1/6hours\n",
    "        fs = 4/24\n",
    "        \n",
    "        # Cut-off period\n",
    "        T = min(1.5*2*np.pi/(2*7.27*10**(-5)*60*60*np.abs(sin(np.nanmean(list(lat))*np.pi/180))), 5*24)\n",
    "        f = 1/T\n",
    "        \n",
    "        # low-pass frequency\n",
    "        lowpass_frequency = f/(fs/2)\n",
    "        \n",
    "        # Check if there is a crossing from -180° to 180° (or viceversa) in the longitudinal position\n",
    "        # and transform the longitudinal position from [-180, 180] to [0, 360]\n",
    "        crossing = False\n",
    "        \n",
    "        for c in range(len(long)-1):\n",
    "            if np.abs((long[c+1]-long[c])) > 100:\n",
    "                long = np.where(long <= 0, long + 360, long)\n",
    "                crossing = True\n",
    "                break\n",
    "\n",
    "        # Low-pass trajectories\n",
    "        b, a = signal.butter(6, lowpass_frequency, 'low', analog = False)\n",
    "        lat = signal.filtfilt(b, a, lat)\n",
    "        b, a = signal.butter(6, lowpass_frequency, 'low', analog = False)\n",
    "        long = signal.filtfilt(b, a, long)\n",
    "        \n",
    "        # If there is a crossing, then retransform coordinate back into range [-180, 180]\n",
    "        if crossing:\n",
    "            long = np.where(long >= 180, long - 360, long)\n",
    "        \n",
    "        return lat, long"
   ]
  },
  {
   "cell_type": "code",
   "execution_count": 4,
   "id": "2a49012f",
   "metadata": {
    "ExecuteTime": {
     "end_time": "2022-01-07T14:27:06.112572Z",
     "start_time": "2022-01-07T14:26:18.695054Z"
    }
   },
   "outputs": [],
   "source": [
    "from datetime import datetime, timedelta\n",
    "import pandas as pd\n",
    "\n",
    "for f in os.listdir(\"./Drifter_processed/\"):\n",
    "    os.remove(os.path.join(\"./Drifter_processed/\", f))\n",
    "    \n",
    "# Define begin and end time\n",
    "time_begin = datetime(2006, 10, 4, 0, 0, 0)\n",
    "time_end = datetime(2006, 11, 4, 0, 0, 0)\n",
    "\n",
    "for d in data:\n",
    "    for i in range(d.shape[0]):\n",
    "        if (datetime.strptime(d[i, 1], '%Y-%m-%d %H:%M:%S') - time_begin).total_seconds() == 0:\n",
    "            for ii in range(i, d.shape[0]):\n",
    "                if (datetime.strptime(d[ii, 1], '%Y-%m-%d %H:%M:%S') - time_end - timedelta(days=2)).total_seconds() == 0:\n",
    "                    latitude, longitude = filter_data(d[:, 3], d[;, 2])\n",
    "                    # Only take drifters which are in the Atlantic\n",
    "                    # It makes no sense to include drifter from remote regions of the ocean \n",
    "                    # which never visit the Gulf stream in the time-interval of interest\n",
    "                    if np.max(latitude) < 80 and np.min(latitude) > -10 and np.max(longitude) < -20 and np.min(longitude) > -90:\n",
    "                        # We need to extract only the 30 days of trajectory and neglect the last 2 days\n",
    "                        # This is done because when low-pass-filtering the trajectories with 1.5*inertial_Period ~ 2 days\n",
    "                        # the information about the last two days of the trajectory is lost.\n",
    "                        \n",
    "                        df = pd.DataFrame({'time': d[i:ii-7, 1], 'longitude': longitude[i:ii-8], 'latitude': latitude[i:ii-8]})\n",
    "                        df.to_csv(\"./Drifter_processed/\" + str(int(d[0,0])) +\".csv\", index = False)\n",
    "                    break\n",
    "            break"
   ]
  }
 ],
 "metadata": {
  "kernelspec": {
   "display_name": "Python 3",
   "language": "python",
   "name": "python3"
  },
  "language_info": {
   "codemirror_mode": {
    "name": "ipython",
    "version": 3
   },
   "file_extension": ".py",
   "mimetype": "text/x-python",
   "name": "python",
   "nbconvert_exporter": "python",
   "pygments_lexer": "ipython3",
   "version": "3.7.12"
  },
  "toc": {
   "base_numbering": 1,
   "nav_menu": {},
   "number_sections": true,
   "sideBar": true,
   "skip_h1_title": false,
   "title_cell": "Table of Contents",
   "title_sidebar": "Contents",
   "toc_cell": false,
   "toc_position": {},
   "toc_section_display": true,
   "toc_window_display": false
  }
 },
 "nbformat": 4,
 "nbformat_minor": 5
}
