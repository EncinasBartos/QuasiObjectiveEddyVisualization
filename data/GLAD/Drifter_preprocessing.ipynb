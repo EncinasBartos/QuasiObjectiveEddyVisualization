{
 "cells": [
  {
   "cell_type": "code",
   "execution_count": 1,
   "id": "ccd3f0f7",
   "metadata": {
    "ExecuteTime": {
     "end_time": "2022-03-16T08:08:30.543395Z",
     "start_time": "2022-03-16T08:08:29.936781Z"
    }
   },
   "outputs": [
    {
     "name": "stdout",
     "output_type": "stream",
     "text": [
      "CPU times: user 344 ms, sys: 118 ms, total: 462 ms\n",
      "Wall time: 603 ms\n"
     ]
    }
   ],
   "source": [
    "%%time\n",
    "import numpy as np\n",
    "import os, re\n",
    "import pandas as pd\n",
    "\n",
    "def read_files_GLAD(path= r'./Drifter_raw'):\n",
    "\n",
    "    lst = []\n",
    "    \n",
    "    for filename in os.listdir(path):\n",
    "        if filename.endswith(\".csv\"):\n",
    "            file_drifter = path+\"/\"+filename\n",
    "            arr = pd.read_csv(file_drifter).values\n",
    "            lst.append(arr)\n",
    "                \n",
    "    return lst"
   ]
  },
  {
   "cell_type": "code",
   "execution_count": 2,
   "id": "abaa2983",
   "metadata": {
    "ExecuteTime": {
     "end_time": "2022-03-16T08:08:32.055699Z",
     "start_time": "2022-03-16T08:08:30.545291Z"
    }
   },
   "outputs": [
    {
     "name": "stdout",
     "output_type": "stream",
     "text": [
      "CPU times: user 1.36 s, sys: 149 ms, total: 1.51 s\n",
      "Wall time: 1.51 s\n"
     ]
    }
   ],
   "source": [
    "%%time\n",
    "data = read_files_GLAD()"
   ]
  },
  {
   "cell_type": "code",
   "execution_count": 3,
   "id": "8c79ef81",
   "metadata": {
    "ExecuteTime": {
     "end_time": "2022-03-16T08:08:32.329387Z",
     "start_time": "2022-03-16T08:08:32.060512Z"
    }
   },
   "outputs": [
    {
     "name": "stdout",
     "output_type": "stream",
     "text": [
      "CPU times: user 184 ms, sys: 62.9 ms, total: 247 ms\n",
      "Wall time: 265 ms\n"
     ]
    }
   ],
   "source": [
    "%%time\n",
    "from scipy import signal\n",
    "from math import sin\n",
    "\n",
    "def filter_data(lat, long):\n",
    "    \n",
    "    for c in range(len(long)-1):\n",
    "        \n",
    "        # sampling frequency of drifters: 4/hour\n",
    "        fs = 4\n",
    "        \n",
    "        # Cut-off period\n",
    "        T = min(1.5*2*np.pi/(2*7.27*10**(-5)*60*60*np.abs(sin(np.nanmean(list(lat))*np.pi/180))), 5*24)\n",
    "        f = 1/T\n",
    "        \n",
    "        # low-pass frequency\n",
    "        lowpass_frequency = f/(fs/2)\n",
    "    \n",
    "        # Low-pass trajectories\n",
    "        b, a = signal.butter(6, lowpass_frequency, 'low', analog = False)\n",
    "        lat = signal.filtfilt(b, a, lat)\n",
    "        b, a = signal.butter(6, lowpass_frequency, 'low', analog = False)\n",
    "        long = signal.filtfilt(b, a, long)\n",
    "        \n",
    "        return lat, long"
   ]
  },
  {
   "cell_type": "code",
   "execution_count": 4,
   "id": "e1882e68",
   "metadata": {
    "ExecuteTime": {
     "end_time": "2022-03-16T08:08:41.531560Z",
     "start_time": "2022-03-16T08:08:32.330806Z"
    }
   },
   "outputs": [
    {
     "name": "stdout",
     "output_type": "stream",
     "text": [
      "CPU times: user 9.11 s, sys: 84.2 ms, total: 9.19 s\n",
      "Wall time: 9.19 s\n"
     ]
    }
   ],
   "source": [
    "%%time\n",
    "from datetime import datetime, timedelta\n",
    "\n",
    "for f in os.listdir(\"./Drifter_processed/\"):\n",
    "    if f.endswith(\".csv\"):\n",
    "        os.remove(os.path.join(\"./Drifter_processed/\", f))\n",
    "        \n",
    "# Define begin and end time\n",
    "time_begin = datetime(2012, 8, 10, 0, 0, 0)\n",
    "time_end = datetime(2012, 8, 17, 0, 0, 0)\n",
    "\n",
    "x, y, t = [], [], []\n",
    "\n",
    "for d in data:\n",
    "    for i in range(d.shape[0]):\n",
    "        if (datetime.strptime(d[i, 1], '%Y-%m-%d %H:%M:%S') - time_begin).total_seconds() == 0:\n",
    "            for ii in range(i, d.shape[0]):\n",
    "                if (datetime.strptime(d[ii, 1], '%Y-%m-%d %H:%M:%S') - time_end - timedelta(days=2)).total_seconds() == 0:\n",
    "                    latitude, longitude = filter_data(d[:, 2], d[:, 3])\n",
    "                    time = d[i:ii-24*4*2+1, 1]\n",
    "                    df = pd.DataFrame({'time': d[i:ii-24*4*2+1, 1], 'longitude': longitude[i:ii-24*4*2+1], 'latitude': latitude[i:ii-24*4*2+1]})\n",
    "                    df.to_csv(\"./Drifter_processed/\" + str(d[0,0]) +\".csv\", index = False)\n",
    "                    break\n",
    "            break\n",
    "\n",
    "import scipy.io as sio\n",
    "mdic = {\"x\": np.array(x), \"y\": np.array(y), \"tv\": np.array(time)}\n",
    "sio.savemat(\"GLAD_trajectories_10_17.mat\", mdic)"
   ]
  },
  {
   "cell_type": "code",
   "execution_count": 5,
   "id": "9e4be49e",
   "metadata": {
    "ExecuteTime": {
     "end_time": "2022-03-16T08:08:51.491755Z",
     "start_time": "2022-03-16T08:08:41.533046Z"
    }
   },
   "outputs": [
    {
     "name": "stdout",
     "output_type": "stream",
     "text": [
      "CPU times: user 9.86 s, sys: 92.4 ms, total: 9.95 s\n",
      "Wall time: 9.95 s\n"
     ]
    }
   ],
   "source": [
    "%%time\n",
    "from datetime import datetime, timedelta\n",
    "\n",
    "for f in os.listdir(\"./Drifter_processed_vortex_merging/\"):\n",
    "    if f.endswith(\".csv\"):\n",
    "        os.remove(os.path.join(\"./Drifter_processed_vortex_merging/\", f))\n",
    "\n",
    "# Define begin and end time\n",
    "time_begin = datetime(2012, 8, , 0, 0, 0)\n",
    "time_end = datetime(2012, 8, 23, 0, 0, 0)# 17-23\n",
    "\n",
    "x, y, t = [], [], []\n",
    "\n",
    "for d in data:\n",
    "    for i in range(d.shape[0]):\n",
    "        if (datetime.strptime(d[i, 1], '%Y-%m-%d %H:%M:%S') - time_begin).total_seconds() == 0:\n",
    "            for ii in range(i, d.shape[0]):\n",
    "                if (datetime.strptime(d[ii, 1], '%Y-%m-%d %H:%M:%S') - time_end - timedelta(days=2)).total_seconds() == 0:\n",
    "                    latitude, longitude = filter_data(d[:, 2], d[:, 3])\n",
    "                    df = pd.DataFrame({'time': d[i:ii-24*4*2+1, 1], 'longitude': longitude[i:ii-24*4*2+1], 'latitude': latitude[i:ii-24*4*2+1]})\n",
    "                    df.to_csv(\"./Drifter_processed_vortex_merging/\" + str(d[0,0]) +\".csv\", index = False)\n",
    "                    break\n",
    "            break\n",
    "\n",
    "import scipy.io as sio\n",
    "mdic = {\"x\": np.array(x), \"y\": np.array(y), \"tv\": np.array(time)}\n",
    "sio.savemat(\"GLAD_trajectories_17_23.mat\", mdic)"
   ]
  }
 ],
 "metadata": {
  "kernelspec": {
   "display_name": "Python 3",
   "language": "python",
   "name": "python3"
  },
  "language_info": {
   "codemirror_mode": {
    "name": "ipython",
    "version": 3
   },
   "file_extension": ".py",
   "mimetype": "text/x-python",
   "name": "python",
   "nbconvert_exporter": "python",
   "pygments_lexer": "ipython3",
   "version": "3.7.12"
  },
  "latex_envs": {
   "LaTeX_envs_menu_present": true,
   "autoclose": false,
   "autocomplete": true,
   "bibliofile": "biblio.bib",
   "cite_by": "apalike",
   "current_citInitial": 1,
   "eqLabelWithNumbers": true,
   "eqNumInitial": 1,
   "hotkeys": {
    "equation": "Ctrl-E",
    "itemize": "Ctrl-I"
   },
   "labels_anchors": false,
   "latex_user_defs": false,
   "report_style_numbering": false,
   "user_envs_cfg": false
  },
  "toc": {
   "base_numbering": 1,
   "nav_menu": {},
   "number_sections": true,
   "sideBar": true,
   "skip_h1_title": false,
   "title_cell": "Table of Contents",
   "title_sidebar": "Contents",
   "toc_cell": false,
   "toc_position": {},
   "toc_section_display": true,
   "toc_window_display": false
  }
 },
 "nbformat": 4,
 "nbformat_minor": 5
}
